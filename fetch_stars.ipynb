{
 "cells": [
  {
   "cell_type": "markdown",
   "metadata": {},
   "source": [
    "#### Import Statements"
   ]
  },
  {
   "cell_type": "code",
   "execution_count": 1,
   "metadata": {},
   "outputs": [],
   "source": [
    "# Data structures\n",
    "import numpy as np \n",
    "import pandas as pds\n",
    "\n",
    "# Plotting\n",
    "from matplotlib import pyplot as plt\n",
    "\n",
    "# Web-scraping\n",
    "import requests \n",
    "from io import StringIO "
   ]
  },
  {
   "cell_type": "markdown",
   "metadata": {},
   "source": [
    "#### Background Information"
   ]
  },
  {
   "cell_type": "markdown",
   "metadata": {},
   "source": [
    "There are a few things to consider before fetching the data, which comes from [this location](http://skyserver.sdss.org/dr14/en/home.aspx).  We are primarily focusing on the `photoObj` properties, though certainly you could [look elsewhere](http://skyserver.sdss.org/dr7/en/help/docs/tabledesc.asp).\n",
    "\n",
    "First, this is all stored in a database object.  As such, it is necessary to query the data using the necessary keywords.  That is provided below.  \n",
    "\n",
    "Second, it is a large dataset.  As such, it would be better to instead fetch a portion of the entire set, as opposed to everything.  We do this by the right ascension (an angle in radians) and the declination (an angle in radians, also).  By limiting it such that\n",
    "\n",
    "$x_{lower} < x < x_{upper}$\n",
    "\n",
    "where $x$ can either be right ascension or declination, we can instead retrieve a patch of the sky.  However, one thing to note here is that a negative angle would also correspond to $2\\pi + x$.  Choose your bounds carefully.  "
   ]
  },
  {
   "cell_type": "markdown",
   "metadata": {},
   "source": [
    "#### Fetching the Data"
   ]
  },
  {
   "cell_type": "code",
   "execution_count": 30,
   "metadata": {},
   "outputs": [],
   "source": [
    "def fetch_patch(ra, dec): \n",
    "    \n",
    "    # Note:\n",
    "    # ra -> right ascension\n",
    "    # dec -> declination\n",
    "    \n",
    "    ra_lower, ra_upper = ra\n",
    "    dec_lower, dec_upper = dec\n",
    "    \n",
    "    # ra_lower -> lower right ascension bound\n",
    "    # ra_upper -> upper right ascension bound\n",
    "    # dec_lower -> lower declination bound\n",
    "    # dec_upper -> upper declination bound\n",
    "    \n",
    "    # query -> the string being sent to the SkyServer database\n",
    "    # You can find what all these variables mean on the site, \n",
    "    # You can also include more variables if desired.\n",
    "    \n",
    "    query = '''SELECT\n",
    "       p.objid, p.ra, p.dec, p.u, p.g, p.r, p.i, p.z,\n",
    "       s.specobjid, s.class, s.z as redshift\n",
    "    FROM PhotoObj AS p\n",
    "       JOIN SpecObj AS s ON s.bestobjid = p.objid\n",
    "    WHERE \n",
    "       p.ra between {} and {} and\n",
    "       p.dec between {} and {}\n",
    "    '''.format(ra_lower, ra_upper, dec_lower, dec_upper)\n",
    "    \n",
    "    # The location of the site.\n",
    "    url = 'http://skyserver.sdss.org/dr14/SkyServerWS/SearchTools/SqlSearch?cmd={}&format=csv'.format(query)\n",
    "    \n",
    "    # Making a request on the data.\n",
    "    r = requests.get(url)\n",
    "    \n",
    "    # Check for a succesful result.\n",
    "    if r.status_code == 200:\n",
    "        \n",
    "        # This creates a csv file from the text.\n",
    "        csv = StringIO(r.text)\n",
    "        \n",
    "        # Making a dataframe, since operations on that are easier.\n",
    "        df = pds.read_csv(csv, skiprows = 1)\n",
    "        \n",
    "        return df"
   ]
  },
  {
   "cell_type": "code",
   "execution_count": 36,
   "metadata": {},
   "outputs": [],
   "source": [
    "# Start with something small, say, 1 radian across both.\n",
    "ra = (0, 1)\n",
    "dec = (0, 1)\n",
    "\n",
    "stars = fetch_patch(ra, dec)"
   ]
  },
  {
   "cell_type": "code",
   "execution_count": 38,
   "metadata": {},
   "outputs": [
    {
     "data": {
      "text/html": [
       "<div>\n",
       "<style scoped>\n",
       "    .dataframe tbody tr th:only-of-type {\n",
       "        vertical-align: middle;\n",
       "    }\n",
       "\n",
       "    .dataframe tbody tr th {\n",
       "        vertical-align: top;\n",
       "    }\n",
       "\n",
       "    .dataframe thead th {\n",
       "        text-align: right;\n",
       "    }\n",
       "</style>\n",
       "<table border=\"1\" class=\"dataframe\">\n",
       "  <thead>\n",
       "    <tr style=\"text-align: right;\">\n",
       "      <th></th>\n",
       "      <th>objid</th>\n",
       "      <th>ra</th>\n",
       "      <th>dec</th>\n",
       "      <th>u</th>\n",
       "      <th>g</th>\n",
       "      <th>r</th>\n",
       "      <th>i</th>\n",
       "      <th>z</th>\n",
       "      <th>specobjid</th>\n",
       "      <th>class</th>\n",
       "      <th>redshift</th>\n",
       "    </tr>\n",
       "  </thead>\n",
       "  <tbody>\n",
       "    <tr>\n",
       "      <th>0</th>\n",
       "      <td>1237663277927891688</td>\n",
       "      <td>0.370152</td>\n",
       "      <td>0.489188</td>\n",
       "      <td>22.63679</td>\n",
       "      <td>22.05188</td>\n",
       "      <td>20.41780</td>\n",
       "      <td>19.46528</td>\n",
       "      <td>18.95657</td>\n",
       "      <td>4747027470481334272</td>\n",
       "      <td>GALAXY</td>\n",
       "      <td>0.483567</td>\n",
       "    </tr>\n",
       "    <tr>\n",
       "      <th>1</th>\n",
       "      <td>1237663277927956712</td>\n",
       "      <td>0.513044</td>\n",
       "      <td>0.607911</td>\n",
       "      <td>19.43647</td>\n",
       "      <td>18.22934</td>\n",
       "      <td>17.73360</td>\n",
       "      <td>17.45712</td>\n",
       "      <td>17.27946</td>\n",
       "      <td>435863481728657408</td>\n",
       "      <td>GALAXY</td>\n",
       "      <td>0.099217</td>\n",
       "    </tr>\n",
       "    <tr>\n",
       "      <th>2</th>\n",
       "      <td>1237663277928087757</td>\n",
       "      <td>0.698067</td>\n",
       "      <td>0.484426</td>\n",
       "      <td>20.25805</td>\n",
       "      <td>18.72041</td>\n",
       "      <td>17.97488</td>\n",
       "      <td>17.58860</td>\n",
       "      <td>17.31249</td>\n",
       "      <td>1677687943327672320</td>\n",
       "      <td>GALAXY</td>\n",
       "      <td>0.079543</td>\n",
       "    </tr>\n",
       "    <tr>\n",
       "      <th>3</th>\n",
       "      <td>1237663277928153273</td>\n",
       "      <td>0.879271</td>\n",
       "      <td>0.458226</td>\n",
       "      <td>19.70641</td>\n",
       "      <td>18.60150</td>\n",
       "      <td>18.14658</td>\n",
       "      <td>17.87857</td>\n",
       "      <td>17.78065</td>\n",
       "      <td>1676625265289095168</td>\n",
       "      <td>GALAXY</td>\n",
       "      <td>0.100209</td>\n",
       "    </tr>\n",
       "    <tr>\n",
       "      <th>4</th>\n",
       "      <td>1237657191978959685</td>\n",
       "      <td>0.026780</td>\n",
       "      <td>0.767737</td>\n",
       "      <td>24.72999</td>\n",
       "      <td>21.72426</td>\n",
       "      <td>19.86433</td>\n",
       "      <td>19.08437</td>\n",
       "      <td>18.60146</td>\n",
       "      <td>771361045036951552</td>\n",
       "      <td>GALAXY</td>\n",
       "      <td>0.433977</td>\n",
       "    </tr>\n",
       "  </tbody>\n",
       "</table>\n",
       "</div>"
      ],
      "text/plain": [
       "                 objid        ra       dec         u         g         r  \\\n",
       "0  1237663277927891688  0.370152  0.489188  22.63679  22.05188  20.41780   \n",
       "1  1237663277927956712  0.513044  0.607911  19.43647  18.22934  17.73360   \n",
       "2  1237663277928087757  0.698067  0.484426  20.25805  18.72041  17.97488   \n",
       "3  1237663277928153273  0.879271  0.458226  19.70641  18.60150  18.14658   \n",
       "4  1237657191978959685  0.026780  0.767737  24.72999  21.72426  19.86433   \n",
       "\n",
       "          i         z            specobjid   class  redshift  \n",
       "0  19.46528  18.95657  4747027470481334272  GALAXY  0.483567  \n",
       "1  17.45712  17.27946   435863481728657408  GALAXY  0.099217  \n",
       "2  17.58860  17.31249  1677687943327672320  GALAXY  0.079543  \n",
       "3  17.87857  17.78065  1676625265289095168  GALAXY  0.100209  \n",
       "4  19.08437  18.60146   771361045036951552  GALAXY  0.433977  "
      ]
     },
     "execution_count": 38,
     "metadata": {},
     "output_type": "execute_result"
    }
   ],
   "source": [
    "stars.head()"
   ]
  },
  {
   "cell_type": "markdown",
   "metadata": {},
   "source": [
    "One consideration is that `u`, `g`, `r`, `i`, `z`, all represent elements of the [Photometric System](https://en.wikipedia.org/wiki/Photometric_system).  At the moment, the units are unknown to me, but this could be updated.  Otherwise, `class` is just a description of the type of object and `redshift` is the red shift.  We can view a plot as an example:"
   ]
  },
  {
   "cell_type": "code",
   "execution_count": 53,
   "metadata": {},
   "outputs": [
    {
     "data": {
      "image/png": "[encoded data removed]",
      "text/plain": [
       "<Figure size 432x288 with 1 Axes>"
      ]
     },
     "metadata": {
      "needs_background": "light"
     },
     "output_type": "display_data"
    }
   ],
   "source": [
    "fig, ax = plt.subplots(1, 1)\n",
    "\n",
    "# The histogram.  60 refers to the number of bins.\n",
    "ax.hist(stars['redshift'], 60, color = 'maroon')\n",
    "\n",
    "# Setting the x limit since there's nothing to the right of zero.\n",
    "ax.set_xlim(0)\n",
    "\n",
    "# Some labels for clarity.\n",
    "ax.set_ylabel('counts', fontsize = 12)\n",
    "ax.set_xlabel('red shift', fontsize = 12)\n",
    "ax.set_title('Red Shift Distribution for our Patch', fontsize = 14)\n",
    "\n",
    "fig.tight_layout()"
   ]
  },
  {
   "cell_type": "code",
   "execution_count": null,
   "metadata": {},
   "outputs": [],
   "source": []
  },
  {
   "cell_type": "code",
   "execution_count": null,
   "metadata": {},
   "outputs": [],
   "source": []
  },
  {
   "cell_type": "code",
   "execution_count": null,
   "metadata": {},
   "outputs": [],
   "source": []
  },
  {
   "cell_type": "code",
   "execution_count": null,
   "metadata": {},
   "outputs": [],
   "source": []
  },
  {
   "cell_type": "markdown",
   "metadata": {},
   "source": [
    "#### Other Useful Resources"
   ]
  },
  {
   "cell_type": "markdown",
   "metadata": {},
   "source": [
    "[1] https://astronomy.stackexchange.com/questions/18986/what-is-the-ugriz-magnitude-system\n",
    "\n",
    "[2] https://www.sdss.org/dr16/imaging/imaging_basics/"
   ]
  },
  {
   "cell_type": "markdown",
   "metadata": {},
   "source": [
    "---"
   ]
  },
  {
   "cell_type": "markdown",
   "metadata": {},
   "source": [
    "#### Contributors"
   ]
  },
  {
   "cell_type": "markdown",
   "metadata": {},
   "source": [
    "_Jeremy Kazimer_  \n",
    "jdkazime@buffalo.edu"
   ]
  }
 ],
 "metadata": {
  "kernelspec": {
   "display_name": "Python 3",
   "language": "python",
   "name": "python3"
  },
  "language_info": {
   "codemirror_mode": {
    "name": "ipython",
    "version": 3
   },
   "file_extension": ".py",
   "mimetype": "text/x-python",
   "name": "python",
   "nbconvert_exporter": "python",
   "pygments_lexer": "ipython3",
   "version": "3.8.3"
  }
 },
 "nbformat": 4,
 "nbformat_minor": 4
}

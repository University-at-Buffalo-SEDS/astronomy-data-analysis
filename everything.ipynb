{
 "cells": [
  {
   "cell_type": "code",
   "execution_count": 1,
   "metadata": {},
   "outputs": [],
   "source": [
    "# Data structures\n",
    "import numpy as np \n",
    "import pandas as pds\n",
    "\n",
    "# Plotting\n",
    "from matplotlib import pyplot as plt\n",
    "\n",
    "# Web-scraping\n",
    "import requests \n",
    "from io import StringIO \n",
    "\n",
    "# Vizier\n",
    "from astroquery.vizier import Vizier"
   ]
  },
  {
   "cell_type": "markdown",
   "metadata": {},
   "source": [
    "## SDSS"
   ]
  },
  {
   "cell_type": "code",
   "execution_count": 128,
   "metadata": {},
   "outputs": [],
   "source": [
    "def fetch_patch(ra, dec): \n",
    "    \n",
    "    # Note:\n",
    "    # ra -> right ascension\n",
    "    # dec -> declination\n",
    "    \n",
    "    ra_lower, ra_upper = ra\n",
    "    dec_lower, dec_upper = dec\n",
    "    \n",
    "    # ra_lower -> lower right ascension bound\n",
    "    # ra_upper -> upper right ascension bound\n",
    "    # dec_lower -> lower declination bound\n",
    "    # dec_upper -> upper declination bound\n",
    "    \n",
    "    # query -> the string being sent to the SkyServer database\n",
    "    # You can find what all these variables mean on the site, \n",
    "    # You can also include more variables if desired.\n",
    "    \n",
    "    query = '''SELECT\n",
    "       p.objid, p.ra, p.dec, p.u, p.g, p.r, p.i, p.z, p.cx, p.cy, p.cz,\n",
    "       s.class, s.z as redshift\n",
    "    FROM PhotoObj AS p\n",
    "       JOIN SpecObj AS s ON s.bestobjid = p.objid\n",
    "    WHERE \n",
    "       p.ra between {} and {} and\n",
    "       p.dec between {} and {} and\n",
    "       s.class = \"STAR\"\n",
    "    '''.format(ra_lower, ra_upper, dec_lower, dec_upper)\n",
    "    \n",
    "    # The location of the site.\n",
    "    url = 'http://skyserver.sdss.org/dr14/SkyServerWS/SearchTools/SqlSearch?cmd={}&format=csv'.format(query)\n",
    "    \n",
    "    # Making a request on the data.\n",
    "    r = requests.get(url)\n",
    "    \n",
    "    # Check for a succesful result.\n",
    "    if r.status_code == 200:\n",
    "        \n",
    "        # This creates a csv file from the text.\n",
    "        csv = StringIO(r.text)\n",
    "        \n",
    "        # Making a dataframe, since operations on that are easier.\n",
    "        df = pds.read_csv(csv, skiprows = 1)\n",
    "        \n",
    "        return df"
   ]
  },
  {
   "cell_type": "code",
   "execution_count": 185,
   "metadata": {},
   "outputs": [],
   "source": [
    "# Start with something small, say, 1 degree across both.\n",
    "ra = (0, 1)\n",
    "dec = (0, 1)\n",
    "\n",
    "sdss_df = fetch_patch(ra, dec).dropna()"
   ]
  },
  {
   "cell_type": "code",
   "execution_count": 186,
   "metadata": {},
   "outputs": [
    {
     "data": {
      "text/plain": [
       "Index(['objid', 'ra', 'dec', 'u', 'g', 'r', 'i', 'z', 'cx', 'cy', 'cz',\n",
       "       'class', 'redshift'],\n",
       "      dtype='object')"
      ]
     },
     "execution_count": 186,
     "metadata": {},
     "output_type": "execute_result"
    }
   ],
   "source": [
    "sdss_df.keys()"
   ]
  },
  {
   "cell_type": "code",
   "execution_count": 189,
   "metadata": {},
   "outputs": [
    {
     "data": {
      "text/html": [
       "<div>\n",
       "<style scoped>\n",
       "    .dataframe tbody tr th:only-of-type {\n",
       "        vertical-align: middle;\n",
       "    }\n",
       "\n",
       "    .dataframe tbody tr th {\n",
       "        vertical-align: top;\n",
       "    }\n",
       "\n",
       "    .dataframe thead th {\n",
       "        text-align: right;\n",
       "    }\n",
       "</style>\n",
       "<table border=\"1\" class=\"dataframe\">\n",
       "  <thead>\n",
       "    <tr style=\"text-align: right;\">\n",
       "      <th></th>\n",
       "      <th>objid</th>\n",
       "      <th>ra</th>\n",
       "      <th>dec</th>\n",
       "      <th>u</th>\n",
       "      <th>g</th>\n",
       "      <th>r</th>\n",
       "      <th>i</th>\n",
       "      <th>z</th>\n",
       "      <th>cx</th>\n",
       "      <th>cy</th>\n",
       "      <th>cz</th>\n",
       "      <th>class</th>\n",
       "      <th>redshift</th>\n",
       "    </tr>\n",
       "  </thead>\n",
       "  <tbody>\n",
       "    <tr>\n",
       "      <td>0</td>\n",
       "      <td>1237645942905897179</td>\n",
       "      <td>58.097962</td>\n",
       "      <td>0.101864</td>\n",
       "      <td>20.69693</td>\n",
       "      <td>18.00692</td>\n",
       "      <td>16.49571</td>\n",
       "      <td>15.70788</td>\n",
       "      <td>15.26716</td>\n",
       "      <td>0.528468</td>\n",
       "      <td>0.848952</td>\n",
       "      <td>0.001778</td>\n",
       "      <td>STAR</td>\n",
       "      <td>0.000203</td>\n",
       "    </tr>\n",
       "    <tr>\n",
       "      <td>1</td>\n",
       "      <td>1237645943978852701</td>\n",
       "      <td>56.236128</td>\n",
       "      <td>0.953291</td>\n",
       "      <td>25.16475</td>\n",
       "      <td>22.05796</td>\n",
       "      <td>20.39417</td>\n",
       "      <td>18.94487</td>\n",
       "      <td>18.16151</td>\n",
       "      <td>0.555695</td>\n",
       "      <td>0.831220</td>\n",
       "      <td>0.016637</td>\n",
       "      <td>STAR</td>\n",
       "      <td>-0.000020</td>\n",
       "    </tr>\n",
       "    <tr>\n",
       "      <td>2</td>\n",
       "      <td>1237645943978852860</td>\n",
       "      <td>56.184129</td>\n",
       "      <td>0.956829</td>\n",
       "      <td>24.42230</td>\n",
       "      <td>22.93605</td>\n",
       "      <td>21.03657</td>\n",
       "      <td>19.81199</td>\n",
       "      <td>19.05802</td>\n",
       "      <td>0.556448</td>\n",
       "      <td>0.830714</td>\n",
       "      <td>0.016699</td>\n",
       "      <td>STAR</td>\n",
       "      <td>0.000208</td>\n",
       "    </tr>\n",
       "    <tr>\n",
       "      <td>3</td>\n",
       "      <td>1237645943978917938</td>\n",
       "      <td>56.309292</td>\n",
       "      <td>0.916452</td>\n",
       "      <td>20.89159</td>\n",
       "      <td>19.68915</td>\n",
       "      <td>19.61545</td>\n",
       "      <td>19.67460</td>\n",
       "      <td>19.63020</td>\n",
       "      <td>0.554639</td>\n",
       "      <td>0.831938</td>\n",
       "      <td>0.015994</td>\n",
       "      <td>STAR</td>\n",
       "      <td>0.000201</td>\n",
       "    </tr>\n",
       "    <tr>\n",
       "      <td>4</td>\n",
       "      <td>1237645943979180313</td>\n",
       "      <td>57.043393</td>\n",
       "      <td>0.874964</td>\n",
       "      <td>23.17451</td>\n",
       "      <td>21.26408</td>\n",
       "      <td>19.57078</td>\n",
       "      <td>18.51824</td>\n",
       "      <td>17.92310</td>\n",
       "      <td>0.543940</td>\n",
       "      <td>0.838985</td>\n",
       "      <td>0.015270</td>\n",
       "      <td>STAR</td>\n",
       "      <td>-0.000018</td>\n",
       "    </tr>\n",
       "  </tbody>\n",
       "</table>\n",
       "</div>"
      ],
      "text/plain": [
       "                 objid         ra       dec         u         g         r  \\\n",
       "0  1237645942905897179  58.097962  0.101864  20.69693  18.00692  16.49571   \n",
       "1  1237645943978852701  56.236128  0.953291  25.16475  22.05796  20.39417   \n",
       "2  1237645943978852860  56.184129  0.956829  24.42230  22.93605  21.03657   \n",
       "3  1237645943978917938  56.309292  0.916452  20.89159  19.68915  19.61545   \n",
       "4  1237645943979180313  57.043393  0.874964  23.17451  21.26408  19.57078   \n",
       "\n",
       "          i         z        cx        cy        cz class  redshift  \n",
       "0  15.70788  15.26716  0.528468  0.848952  0.001778  STAR  0.000203  \n",
       "1  18.94487  18.16151  0.555695  0.831220  0.016637  STAR -0.000020  \n",
       "2  19.81199  19.05802  0.556448  0.830714  0.016699  STAR  0.000208  \n",
       "3  19.67460  19.63020  0.554639  0.831938  0.015994  STAR  0.000201  \n",
       "4  18.51824  17.92310  0.543940  0.838985  0.015270  STAR -0.000018  "
      ]
     },
     "execution_count": 189,
     "metadata": {},
     "output_type": "execute_result"
    }
   ],
   "source": [
    "sdss_df.head()"
   ]
  },
  {
   "cell_type": "markdown",
   "metadata": {},
   "source": [
    "## VIZIER"
   ]
  },
  {
   "cell_type": "code",
   "execution_count": 104,
   "metadata": {},
   "outputs": [],
   "source": [
    "def get_catalog(item):\n",
    "    return list(Vizier.find_catalogs(item))"
   ]
  },
  {
   "cell_type": "code",
   "execution_count": 6,
   "metadata": {},
   "outputs": [],
   "source": [
    "qry = get_catalog('V/19')"
   ]
  },
  {
   "cell_type": "code",
   "execution_count": 42,
   "metadata": {},
   "outputs": [],
   "source": [
    "vizier_dfs = Vizier.query_constraints(qry[1])"
   ]
  },
  {
   "cell_type": "code",
   "execution_count": 218,
   "metadata": {},
   "outputs": [],
   "source": [
    "vizier_df = vizier_dfs[0].to_pandas().select_dtypes(exclude=['object'])"
   ]
  },
  {
   "cell_type": "code",
   "execution_count": 219,
   "metadata": {},
   "outputs": [
    {
     "data": {
      "text/plain": [
       "Index(['Per', 'qph', 'f', 'T1', 'T2', '_RA', '_DE'], dtype='object')"
      ]
     },
     "execution_count": 219,
     "metadata": {},
     "output_type": "execute_result"
    }
   ],
   "source": [
    "vizier_df.keys()"
   ]
  },
  {
   "cell_type": "code",
   "execution_count": 222,
   "metadata": {},
   "outputs": [
    {
     "data": {
      "text/html": [
       "<div>\n",
       "<style scoped>\n",
       "    .dataframe tbody tr th:only-of-type {\n",
       "        vertical-align: middle;\n",
       "    }\n",
       "\n",
       "    .dataframe tbody tr th {\n",
       "        vertical-align: top;\n",
       "    }\n",
       "\n",
       "    .dataframe thead th {\n",
       "        text-align: right;\n",
       "    }\n",
       "</style>\n",
       "<table border=\"1\" class=\"dataframe\">\n",
       "  <thead>\n",
       "    <tr style=\"text-align: right;\">\n",
       "      <th></th>\n",
       "      <th>Per</th>\n",
       "      <th>qph</th>\n",
       "      <th>f</th>\n",
       "      <th>T1</th>\n",
       "      <th>T2</th>\n",
       "      <th>_RA</th>\n",
       "      <th>_DE</th>\n",
       "    </tr>\n",
       "  </thead>\n",
       "  <tbody>\n",
       "    <tr>\n",
       "      <td>0</td>\n",
       "      <td>0.331891</td>\n",
       "      <td>0.491</td>\n",
       "      <td>0.15</td>\n",
       "      <td>5450.0</td>\n",
       "      <td>5821.0</td>\n",
       "      <td>347.8837</td>\n",
       "      <td>36.8931</td>\n",
       "    </tr>\n",
       "    <tr>\n",
       "      <td>1</td>\n",
       "      <td>0.610113</td>\n",
       "      <td>0.497</td>\n",
       "      <td>0.08</td>\n",
       "      <td>6800.0</td>\n",
       "      <td>4500.0</td>\n",
       "      <td>32.2643</td>\n",
       "      <td>40.7942</td>\n",
       "    </tr>\n",
       "    <tr>\n",
       "      <td>2</td>\n",
       "      <td>0.462791</td>\n",
       "      <td>0.450</td>\n",
       "      <td>0.43</td>\n",
       "      <td>6200.0</td>\n",
       "      <td>4680.0</td>\n",
       "      <td>5.1273</td>\n",
       "      <td>40.2261</td>\n",
       "    </tr>\n",
       "    <tr>\n",
       "      <td>3</td>\n",
       "      <td>0.404111</td>\n",
       "      <td>0.340</td>\n",
       "      <td>0.39</td>\n",
       "      <td>5960.0</td>\n",
       "      <td>6073.0</td>\n",
       "      <td>25.6222</td>\n",
       "      <td>44.7618</td>\n",
       "    </tr>\n",
       "    <tr>\n",
       "      <td>4</td>\n",
       "      <td>0.305018</td>\n",
       "      <td>NaN</td>\n",
       "      <td>NaN</td>\n",
       "      <td>NaN</td>\n",
       "      <td>NaN</td>\n",
       "      <td>33.0595</td>\n",
       "      <td>44.6610</td>\n",
       "    </tr>\n",
       "  </tbody>\n",
       "</table>\n",
       "</div>"
      ],
      "text/plain": [
       "        Per    qph     f      T1      T2       _RA      _DE\n",
       "0  0.331891  0.491  0.15  5450.0  5821.0  347.8837  36.8931\n",
       "1  0.610113  0.497  0.08  6800.0  4500.0   32.2643  40.7942\n",
       "2  0.462791  0.450  0.43  6200.0  4680.0    5.1273  40.2261\n",
       "3  0.404111  0.340  0.39  5960.0  6073.0   25.6222  44.7618\n",
       "4  0.305018    NaN   NaN     NaN     NaN   33.0595  44.6610"
      ]
     },
     "execution_count": 222,
     "metadata": {},
     "output_type": "execute_result"
    }
   ],
   "source": [
    "vizier_df.head()"
   ]
  },
  {
   "cell_type": "markdown",
   "metadata": {},
   "source": [
    "## Join the two"
   ]
  },
  {
   "cell_type": "code",
   "execution_count": 64,
   "metadata": {},
   "outputs": [
    {
     "data": {
      "image/png": "[encoded data removed]",
      "text/plain": [
       "<Figure size 864x288 with 2 Axes>"
      ]
     },
     "metadata": {
      "needs_background": "light"
     },
     "output_type": "display_data"
    }
   ],
   "source": [
    "fig, ax = plt.subplots(1, 2, figsize = (12, 4))\n",
    "\n",
    "ax[0].hist(vizier_df['_RA'], 20)\n",
    "ax[1].hist(vizier_df['_DE'], 20)\n",
    "\n",
    "fig.tight_layout();"
   ]
  },
  {
   "cell_type": "code",
   "execution_count": 231,
   "metadata": {},
   "outputs": [],
   "source": [
    "sdss_vizier = pds.merge(sdss_df, vizier_df, how='left', left_on=['ra', 'dec'], right_on = ['_RA', '_DE']).dropna()"
   ]
  },
  {
   "cell_type": "code",
   "execution_count": 229,
   "metadata": {},
   "outputs": [
    {
     "data": {
      "text/html": [
       "<div>\n",
       "<style scoped>\n",
       "    .dataframe tbody tr th:only-of-type {\n",
       "        vertical-align: middle;\n",
       "    }\n",
       "\n",
       "    .dataframe tbody tr th {\n",
       "        vertical-align: top;\n",
       "    }\n",
       "\n",
       "    .dataframe thead th {\n",
       "        text-align: right;\n",
       "    }\n",
       "</style>\n",
       "<table border=\"1\" class=\"dataframe\">\n",
       "  <thead>\n",
       "    <tr style=\"text-align: right;\">\n",
       "      <th></th>\n",
       "      <th>objid</th>\n",
       "      <th>ra</th>\n",
       "      <th>dec</th>\n",
       "      <th>u</th>\n",
       "      <th>g</th>\n",
       "      <th>r</th>\n",
       "      <th>i</th>\n",
       "      <th>z</th>\n",
       "      <th>cx</th>\n",
       "      <th>cy</th>\n",
       "      <th>cz</th>\n",
       "      <th>class</th>\n",
       "      <th>redshift</th>\n",
       "      <th>Per</th>\n",
       "      <th>qph</th>\n",
       "      <th>f</th>\n",
       "      <th>T1</th>\n",
       "      <th>T2</th>\n",
       "      <th>_RA</th>\n",
       "      <th>_DE</th>\n",
       "    </tr>\n",
       "  </thead>\n",
       "  <tbody>\n",
       "    <tr>\n",
       "      <td>0</td>\n",
       "      <td>NaN</td>\n",
       "      <td>NaN</td>\n",
       "      <td>NaN</td>\n",
       "      <td>NaN</td>\n",
       "      <td>NaN</td>\n",
       "      <td>NaN</td>\n",
       "      <td>NaN</td>\n",
       "      <td>NaN</td>\n",
       "      <td>NaN</td>\n",
       "      <td>NaN</td>\n",
       "      <td>NaN</td>\n",
       "      <td>NaN</td>\n",
       "      <td>NaN</td>\n",
       "      <td>0.331891</td>\n",
       "      <td>0.491</td>\n",
       "      <td>0.15</td>\n",
       "      <td>5450.0</td>\n",
       "      <td>5821.0</td>\n",
       "      <td>347.8837</td>\n",
       "      <td>36.8931</td>\n",
       "    </tr>\n",
       "    <tr>\n",
       "      <td>1</td>\n",
       "      <td>NaN</td>\n",
       "      <td>NaN</td>\n",
       "      <td>NaN</td>\n",
       "      <td>NaN</td>\n",
       "      <td>NaN</td>\n",
       "      <td>NaN</td>\n",
       "      <td>NaN</td>\n",
       "      <td>NaN</td>\n",
       "      <td>NaN</td>\n",
       "      <td>NaN</td>\n",
       "      <td>NaN</td>\n",
       "      <td>NaN</td>\n",
       "      <td>NaN</td>\n",
       "      <td>0.610113</td>\n",
       "      <td>0.497</td>\n",
       "      <td>0.08</td>\n",
       "      <td>6800.0</td>\n",
       "      <td>4500.0</td>\n",
       "      <td>32.2643</td>\n",
       "      <td>40.7942</td>\n",
       "    </tr>\n",
       "    <tr>\n",
       "      <td>2</td>\n",
       "      <td>NaN</td>\n",
       "      <td>NaN</td>\n",
       "      <td>NaN</td>\n",
       "      <td>NaN</td>\n",
       "      <td>NaN</td>\n",
       "      <td>NaN</td>\n",
       "      <td>NaN</td>\n",
       "      <td>NaN</td>\n",
       "      <td>NaN</td>\n",
       "      <td>NaN</td>\n",
       "      <td>NaN</td>\n",
       "      <td>NaN</td>\n",
       "      <td>NaN</td>\n",
       "      <td>0.462791</td>\n",
       "      <td>0.450</td>\n",
       "      <td>0.43</td>\n",
       "      <td>6200.0</td>\n",
       "      <td>4680.0</td>\n",
       "      <td>5.1273</td>\n",
       "      <td>40.2261</td>\n",
       "    </tr>\n",
       "    <tr>\n",
       "      <td>3</td>\n",
       "      <td>NaN</td>\n",
       "      <td>NaN</td>\n",
       "      <td>NaN</td>\n",
       "      <td>NaN</td>\n",
       "      <td>NaN</td>\n",
       "      <td>NaN</td>\n",
       "      <td>NaN</td>\n",
       "      <td>NaN</td>\n",
       "      <td>NaN</td>\n",
       "      <td>NaN</td>\n",
       "      <td>NaN</td>\n",
       "      <td>NaN</td>\n",
       "      <td>NaN</td>\n",
       "      <td>0.404111</td>\n",
       "      <td>0.340</td>\n",
       "      <td>0.39</td>\n",
       "      <td>5960.0</td>\n",
       "      <td>6073.0</td>\n",
       "      <td>25.6222</td>\n",
       "      <td>44.7618</td>\n",
       "    </tr>\n",
       "    <tr>\n",
       "      <td>4</td>\n",
       "      <td>NaN</td>\n",
       "      <td>NaN</td>\n",
       "      <td>NaN</td>\n",
       "      <td>NaN</td>\n",
       "      <td>NaN</td>\n",
       "      <td>NaN</td>\n",
       "      <td>NaN</td>\n",
       "      <td>NaN</td>\n",
       "      <td>NaN</td>\n",
       "      <td>NaN</td>\n",
       "      <td>NaN</td>\n",
       "      <td>NaN</td>\n",
       "      <td>NaN</td>\n",
       "      <td>0.305018</td>\n",
       "      <td>NaN</td>\n",
       "      <td>NaN</td>\n",
       "      <td>NaN</td>\n",
       "      <td>NaN</td>\n",
       "      <td>33.0595</td>\n",
       "      <td>44.6610</td>\n",
       "    </tr>\n",
       "  </tbody>\n",
       "</table>\n",
       "</div>"
      ],
      "text/plain": [
       "   objid  ra  dec   u   g   r   i   z  cx  cy  cz class  redshift       Per  \\\n",
       "0    NaN NaN  NaN NaN NaN NaN NaN NaN NaN NaN NaN   NaN       NaN  0.331891   \n",
       "1    NaN NaN  NaN NaN NaN NaN NaN NaN NaN NaN NaN   NaN       NaN  0.610113   \n",
       "2    NaN NaN  NaN NaN NaN NaN NaN NaN NaN NaN NaN   NaN       NaN  0.462791   \n",
       "3    NaN NaN  NaN NaN NaN NaN NaN NaN NaN NaN NaN   NaN       NaN  0.404111   \n",
       "4    NaN NaN  NaN NaN NaN NaN NaN NaN NaN NaN NaN   NaN       NaN  0.305018   \n",
       "\n",
       "     qph     f      T1      T2       _RA      _DE  \n",
       "0  0.491  0.15  5450.0  5821.0  347.8837  36.8931  \n",
       "1  0.497  0.08  6800.0  4500.0   32.2643  40.7942  \n",
       "2  0.450  0.43  6200.0  4680.0    5.1273  40.2261  \n",
       "3  0.340  0.39  5960.0  6073.0   25.6222  44.7618  \n",
       "4    NaN   NaN     NaN     NaN   33.0595  44.6610  "
      ]
     },
     "execution_count": 229,
     "metadata": {},
     "output_type": "execute_result"
    }
   ],
   "source": [
    "sdss_vizier.head()"
   ]
  },
  {
   "cell_type": "code",
   "execution_count": 212,
   "metadata": {},
   "outputs": [],
   "source": [
    "vizier_sort = np.array(np.argsort(-vizier_df['_RA']))"
   ]
  },
  {
   "cell_type": "code",
   "execution_count": 213,
   "metadata": {},
   "outputs": [],
   "source": [
    "sdss_sort = np.array(np.argsort(-sdss_df['ra']))"
   ]
  },
  {
   "cell_type": "code",
   "execution_count": 214,
   "metadata": {},
   "outputs": [
    {
     "data": {
      "text/plain": [
       "0.0003670225519840642"
      ]
     },
     "execution_count": 214,
     "metadata": {},
     "output_type": "execute_result"
    }
   ],
   "source": [
    "np.array(vizier_df['_RA'])[vizier_sort][0] - np.array(sdss_df['ra'])[sdss_sort][0]"
   ]
  },
  {
   "cell_type": "code",
   "execution_count": 215,
   "metadata": {},
   "outputs": [
    {
     "data": {
      "text/plain": [
       "36.63140006202746"
      ]
     },
     "execution_count": 215,
     "metadata": {},
     "output_type": "execute_result"
    }
   ],
   "source": [
    "np.array(vizier_df['_DE'])[vizier_sort][0] - np.array(sdss_df['dec'])[sdss_sort][0]"
   ]
  },
  {
   "cell_type": "code",
   "execution_count": 216,
   "metadata": {},
   "outputs": [
    {
     "data": {
      "text/plain": [
       "array([ 36.8931,   9.309 ,   5.8382,  -7.485 , -56.8215,  47.6541,\n",
       "        35.1333,   9.1137,  12.5676,  30.    ,  20.1902,  24.9233,\n",
       "       -28.6278,  36.448 ,  27.999 ,  33.3977,  40.7942,  24.0017,\n",
       "        37.8064,  44.7618,  40.2261])"
      ]
     },
     "execution_count": 216,
     "metadata": {},
     "output_type": "execute_result"
    }
   ],
   "source": [
    "np.array(vizier_df['_DE'])[vizier_sort]"
   ]
  },
  {
   "cell_type": "code",
   "execution_count": 217,
   "metadata": {},
   "outputs": [
    {
     "data": {
      "text/plain": [
       "array([347.8837, 297.0527, 293.8505, 285.1875, 264.5231, 225.9471,\n",
       "       225.1958, 218.7657, 214.3585, 211.2458, 207.2982, 207.0458,\n",
       "       143.0766, 110.9594,  96.5206,  76.9997,  32.2643,  31.0625,\n",
       "        29.4879,  25.6222,   5.1273])"
      ]
     },
     "execution_count": 217,
     "metadata": {},
     "output_type": "execute_result"
    }
   ],
   "source": [
    "np.array(vizier_df['_RA'])[vizier_sort]"
   ]
  },
  {
   "cell_type": "code",
   "execution_count": 202,
   "metadata": {},
   "outputs": [
    {
     "data": {
      "text/plain": [
       "array([  5.12736031,   5.12779091,   5.12806729, ..., 347.88299326,\n",
       "       347.88321375, 347.88333298])"
      ]
     },
     "execution_count": 202,
     "metadata": {},
     "output_type": "execute_result"
    }
   ],
   "source": [
    "np.array(sdss_df['ra'])[sdss_sort]"
   ]
  },
  {
   "cell_type": "code",
   "execution_count": null,
   "metadata": {},
   "outputs": [],
   "source": []
  }
 ],
 "metadata": {
  "kernelspec": {
   "display_name": "Python 3",
   "language": "python",
   "name": "python3"
  },
  "language_info": {
   "codemirror_mode": {
    "name": "ipython",
    "version": 3
   },
   "file_extension": ".py",
   "mimetype": "text/x-python",
   "name": "python",
   "nbconvert_exporter": "python",
   "pygments_lexer": "ipython3",
   "version": "3.7.4"
  }
 },
 "nbformat": 4,
 "nbformat_minor": 2
}

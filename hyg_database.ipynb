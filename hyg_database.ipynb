{
 "cells": [
  {
   "cell_type": "markdown",
   "metadata": {},
   "source": [
    "#### Import Statements"
   ]
  },
  {
   "cell_type": "code",
   "execution_count": 1,
   "metadata": {},
   "outputs": [],
   "source": [
    "# Data structures\n",
    "import pandas as pds\n",
    "import numpy as np;\n",
    "\n",
    "# Plotting\n",
    "from matplotlib import pyplot as plt"
   ]
  },
  {
   "cell_type": "markdown",
   "metadata": {},
   "source": [
    "#### Background Information"
   ]
  },
  {
   "cell_type": "markdown",
   "metadata": {},
   "source": [
    "Our data comes from [this url](https://github.com/astronexus/HYG-Database):"
   ]
  },
  {
   "cell_type": "code",
   "execution_count": 2,
   "metadata": {},
   "outputs": [],
   "source": [
    "url = 'https://raw.githubusercontent.com/astronexus/HYG-Database/master/hygdata_v3.csv'"
   ]
  },
  {
   "cell_type": "markdown",
   "metadata": {},
   "source": [
    "This is a more extensive star catalogue that maps Hubble features such as radial velocity and its components to some arbitrary identifier.  This **does not** match up with the SDSS data.  This is because, there, their ID's reflect how the data was measured.  Here, their ID's are arbitrary, but the ID of the Sun is 0.  \n",
    "\n",
    "We can read the data by the following:"
   ]
  },
  {
   "cell_type": "code",
   "execution_count": 3,
   "metadata": {},
   "outputs": [],
   "source": [
    "star_df = pds.read_csv(url)"
   ]
  },
  {
   "cell_type": "code",
   "execution_count": 4,
   "metadata": {},
   "outputs": [
    {
     "data": {
      "text/html": [
       "<div>\n",
       "<style scoped>\n",
       "    .dataframe tbody tr th:only-of-type {\n",
       "        vertical-align: middle;\n",
       "    }\n",
       "\n",
       "    .dataframe tbody tr th {\n",
       "        vertical-align: top;\n",
       "    }\n",
       "\n",
       "    .dataframe thead th {\n",
       "        text-align: right;\n",
       "    }\n",
       "</style>\n",
       "<table border=\"1\" class=\"dataframe\">\n",
       "  <thead>\n",
       "    <tr style=\"text-align: right;\">\n",
       "      <th></th>\n",
       "      <th>id</th>\n",
       "      <th>hip</th>\n",
       "      <th>hd</th>\n",
       "      <th>hr</th>\n",
       "      <th>gl</th>\n",
       "      <th>bf</th>\n",
       "      <th>proper</th>\n",
       "      <th>ra</th>\n",
       "      <th>dec</th>\n",
       "      <th>dist</th>\n",
       "      <th>...</th>\n",
       "      <th>bayer</th>\n",
       "      <th>flam</th>\n",
       "      <th>con</th>\n",
       "      <th>comp</th>\n",
       "      <th>comp_primary</th>\n",
       "      <th>base</th>\n",
       "      <th>lum</th>\n",
       "      <th>var</th>\n",
       "      <th>var_min</th>\n",
       "      <th>var_max</th>\n",
       "    </tr>\n",
       "  </thead>\n",
       "  <tbody>\n",
       "    <tr>\n",
       "      <td>0</td>\n",
       "      <td>0</td>\n",
       "      <td>NaN</td>\n",
       "      <td>NaN</td>\n",
       "      <td>NaN</td>\n",
       "      <td>NaN</td>\n",
       "      <td>NaN</td>\n",
       "      <td>Sol</td>\n",
       "      <td>0.000000</td>\n",
       "      <td>0.000000</td>\n",
       "      <td>0.0000</td>\n",
       "      <td>...</td>\n",
       "      <td>NaN</td>\n",
       "      <td>NaN</td>\n",
       "      <td>NaN</td>\n",
       "      <td>1</td>\n",
       "      <td>0</td>\n",
       "      <td>NaN</td>\n",
       "      <td>1.000000</td>\n",
       "      <td>NaN</td>\n",
       "      <td>NaN</td>\n",
       "      <td>NaN</td>\n",
       "    </tr>\n",
       "    <tr>\n",
       "      <td>1</td>\n",
       "      <td>1</td>\n",
       "      <td>1.0</td>\n",
       "      <td>224700.0</td>\n",
       "      <td>NaN</td>\n",
       "      <td>NaN</td>\n",
       "      <td>NaN</td>\n",
       "      <td>NaN</td>\n",
       "      <td>0.000060</td>\n",
       "      <td>1.089009</td>\n",
       "      <td>219.7802</td>\n",
       "      <td>...</td>\n",
       "      <td>NaN</td>\n",
       "      <td>NaN</td>\n",
       "      <td>Psc</td>\n",
       "      <td>1</td>\n",
       "      <td>1</td>\n",
       "      <td>NaN</td>\n",
       "      <td>9.638290</td>\n",
       "      <td>NaN</td>\n",
       "      <td>NaN</td>\n",
       "      <td>NaN</td>\n",
       "    </tr>\n",
       "    <tr>\n",
       "      <td>2</td>\n",
       "      <td>2</td>\n",
       "      <td>2.0</td>\n",
       "      <td>224690.0</td>\n",
       "      <td>NaN</td>\n",
       "      <td>NaN</td>\n",
       "      <td>NaN</td>\n",
       "      <td>NaN</td>\n",
       "      <td>0.000283</td>\n",
       "      <td>-19.498840</td>\n",
       "      <td>47.9616</td>\n",
       "      <td>...</td>\n",
       "      <td>NaN</td>\n",
       "      <td>NaN</td>\n",
       "      <td>Cet</td>\n",
       "      <td>1</td>\n",
       "      <td>2</td>\n",
       "      <td>NaN</td>\n",
       "      <td>0.392283</td>\n",
       "      <td>NaN</td>\n",
       "      <td>NaN</td>\n",
       "      <td>NaN</td>\n",
       "    </tr>\n",
       "    <tr>\n",
       "      <td>3</td>\n",
       "      <td>3</td>\n",
       "      <td>3.0</td>\n",
       "      <td>224699.0</td>\n",
       "      <td>NaN</td>\n",
       "      <td>NaN</td>\n",
       "      <td>NaN</td>\n",
       "      <td>NaN</td>\n",
       "      <td>0.000335</td>\n",
       "      <td>38.859279</td>\n",
       "      <td>442.4779</td>\n",
       "      <td>...</td>\n",
       "      <td>NaN</td>\n",
       "      <td>NaN</td>\n",
       "      <td>And</td>\n",
       "      <td>1</td>\n",
       "      <td>3</td>\n",
       "      <td>NaN</td>\n",
       "      <td>386.901132</td>\n",
       "      <td>NaN</td>\n",
       "      <td>NaN</td>\n",
       "      <td>NaN</td>\n",
       "    </tr>\n",
       "    <tr>\n",
       "      <td>4</td>\n",
       "      <td>4</td>\n",
       "      <td>4.0</td>\n",
       "      <td>224707.0</td>\n",
       "      <td>NaN</td>\n",
       "      <td>NaN</td>\n",
       "      <td>NaN</td>\n",
       "      <td>NaN</td>\n",
       "      <td>0.000569</td>\n",
       "      <td>-51.893546</td>\n",
       "      <td>134.2282</td>\n",
       "      <td>...</td>\n",
       "      <td>NaN</td>\n",
       "      <td>NaN</td>\n",
       "      <td>Phe</td>\n",
       "      <td>1</td>\n",
       "      <td>4</td>\n",
       "      <td>NaN</td>\n",
       "      <td>9.366989</td>\n",
       "      <td>NaN</td>\n",
       "      <td>NaN</td>\n",
       "      <td>NaN</td>\n",
       "    </tr>\n",
       "  </tbody>\n",
       "</table>\n",
       "<p>5 rows × 37 columns</p>\n",
       "</div>"
      ],
      "text/plain": [
       "   id  hip        hd  hr   gl   bf proper        ra        dec      dist  ...  \\\n",
       "0   0  NaN       NaN NaN  NaN  NaN    Sol  0.000000   0.000000    0.0000  ...   \n",
       "1   1  1.0  224700.0 NaN  NaN  NaN    NaN  0.000060   1.089009  219.7802  ...   \n",
       "2   2  2.0  224690.0 NaN  NaN  NaN    NaN  0.000283 -19.498840   47.9616  ...   \n",
       "3   3  3.0  224699.0 NaN  NaN  NaN    NaN  0.000335  38.859279  442.4779  ...   \n",
       "4   4  4.0  224707.0 NaN  NaN  NaN    NaN  0.000569 -51.893546  134.2282  ...   \n",
       "\n",
       "   bayer  flam  con  comp  comp_primary base         lum  var  var_min  \\\n",
       "0    NaN   NaN  NaN     1             0  NaN    1.000000  NaN      NaN   \n",
       "1    NaN   NaN  Psc     1             1  NaN    9.638290  NaN      NaN   \n",
       "2    NaN   NaN  Cet     1             2  NaN    0.392283  NaN      NaN   \n",
       "3    NaN   NaN  And     1             3  NaN  386.901132  NaN      NaN   \n",
       "4    NaN   NaN  Phe     1             4  NaN    9.366989  NaN      NaN   \n",
       "\n",
       "   var_max  \n",
       "0      NaN  \n",
       "1      NaN  \n",
       "2      NaN  \n",
       "3      NaN  \n",
       "4      NaN  \n",
       "\n",
       "[5 rows x 37 columns]"
      ]
     },
     "execution_count": 4,
     "metadata": {},
     "output_type": "execute_result"
    }
   ],
   "source": [
    "# This gives us the top 5 elements.  There are way more than 5 in the set.\n",
    "star_df.head()"
   ]
  },
  {
   "cell_type": "markdown",
   "metadata": {},
   "source": [
    "Note that there are a bunch of columns that we don't really care about for these purposes, so we can reduce that by the following.  These are mostly different identifiers or values we can calculate ourselves, much faster.  By reducing the size of the dataframe, computation speed increases:"
   ]
  },
  {
   "cell_type": "code",
   "execution_count": 5,
   "metadata": {},
   "outputs": [
    {
     "data": {
      "text/plain": [
       "Index(['id', 'hip', 'hd', 'hr', 'gl', 'bf', 'proper', 'ra', 'dec', 'dist',\n",
       "       'pmra', 'pmdec', 'rv', 'mag', 'absmag', 'spect', 'ci', 'x', 'y', 'z',\n",
       "       'vx', 'vy', 'vz', 'rarad', 'decrad', 'pmrarad', 'pmdecrad', 'bayer',\n",
       "       'flam', 'con', 'comp', 'comp_primary', 'base', 'lum', 'var', 'var_min',\n",
       "       'var_max'],\n",
       "      dtype='object')"
      ]
     },
     "execution_count": 5,
     "metadata": {},
     "output_type": "execute_result"
    }
   ],
   "source": [
    "star_df.keys()"
   ]
  },
  {
   "cell_type": "code",
   "execution_count": 18,
   "metadata": {},
   "outputs": [],
   "source": [
    "reduced_star_df = star_df.drop(['hip', 'hd', 'hr', 'gl', 'bf', 'proper',\n",
    "                                'rarad', 'decrad', 'pmrarad', 'pmdecrad',\n",
    "                                'bayer', 'flam', 'con', 'comp', 'comp_primary',\n",
    "                                'base', 'var', 'var_min', 'var_max'], \n",
    "                                axis = 1)"
   ]
  },
  {
   "cell_type": "code",
   "execution_count": 19,
   "metadata": {
    "scrolled": true
   },
   "outputs": [
    {
     "data": {
      "text/plain": [
       "23.998594"
      ]
     },
     "execution_count": 19,
     "metadata": {},
     "output_type": "execute_result"
    }
   ],
   "source": [
    "reduced_star_df['ra'].max()"
   ]
  },
  {
   "cell_type": "markdown",
   "metadata": {},
   "source": [
    "Now, like the SDSS data, it is necessary to limit the data to a specific path of the sky.  Before that, some considerations:\n",
    "\n",
    "* Right Ascension ($\\alpha$) is on the range $[0^\\circ, 360^\\circ]$.\n",
    "* Declination ($\\delta$) is on the range $[-90^\\circ, 90^\\circ]$."
   ]
  },
  {
   "cell_type": "markdown",
   "metadata": {},
   "source": [
    "More can be [found here](https://www.britannica.com/science/declination).  So, we can define a function `angular_patch` which does exactly this:"
   ]
  },
  {
   "cell_type": "code",
   "execution_count": 20,
   "metadata": {},
   "outputs": [],
   "source": [
    "def angular_patch(ra, dec, sky, cs = None):\n",
    "    \n",
    "    # ra -> a tuple containing lower [0] and upper [1] bounds.\n",
    "    # dec -> a tuple containing lower [0] and upper [1] bounds.\n",
    "    # sky -> the dataframe of the sky.\n",
    "    # cs -> optional parameter of color indices.\n",
    "    \n",
    "    ra_lims = (sky['ra'] > ra[0]) & (sky['ra'] < ra[1])\n",
    "    dec_lims = (sky['dec'] > dec[0]) & (sky['dec'] < dec[1])\n",
    "    \n",
    "    # NumPy / Pandas vectorized indexing lets us do this.\n",
    "    if cs != None:\n",
    "        return sky[ra_lims & dec_lims], cs[ra_lims & dec_lims]\n",
    "    else: return sky[ra_lims & dec_lims]"
   ]
  },
  {
   "cell_type": "markdown",
   "metadata": {},
   "source": [
    "A fair example:"
   ]
  },
  {
   "cell_type": "code",
   "execution_count": 35,
   "metadata": {},
   "outputs": [],
   "source": [
    "ra = (0, 10)\n",
    "dec = (0, 1)\n",
    "\n",
    "patch_0 = angular_patch(ra, dec, reduced_star_df)"
   ]
  },
  {
   "cell_type": "code",
   "execution_count": 36,
   "metadata": {},
   "outputs": [
    {
     "data": {
      "image/png": "[encoded data removed]",
      "text/plain": [
       "<Figure size 432x432 with 1 Axes>"
      ]
     },
     "metadata": {
      "needs_background": "light"
     },
     "output_type": "display_data"
    }
   ],
   "source": [
    "fig, ax = plt.subplots(1, 1, figsize = (6, 6))\n",
    "\n",
    "ax.scatter(patch_0['ra'], patch_0['dec'], color = 'gold', alpha = 0.5)\n",
    "\n",
    "ax.set_ylabel(r'declination, $\\delta$', fontsize = 14)\n",
    "ax.set_xlabel(r'right ascension, $\\alpha$', fontsize = 14)\n",
    "\n",
    "fig.tight_layout()"
   ]
  },
  {
   "cell_type": "markdown",
   "metadata": {},
   "source": [
    "The aspect isn't quite right, so we can fix it by the following:"
   ]
  },
  {
   "cell_type": "code",
   "execution_count": 37,
   "metadata": {},
   "outputs": [],
   "source": [
    "aspect = lambda ra, dec: 1/np.cos((dec[0] + dec[1])/2*np.pi/180)"
   ]
  },
  {
   "cell_type": "markdown",
   "metadata": {},
   "source": [
    "A `lambda` object is just a function without a return statement."
   ]
  },
  {
   "cell_type": "code",
   "execution_count": 38,
   "metadata": {},
   "outputs": [
    {
     "data": {
      "image/png": "[encoded data removed]",
      "text/plain": [
       "<Figure size 432x432 with 1 Axes>"
      ]
     },
     "metadata": {
      "needs_background": "light"
     },
     "output_type": "display_data"
    }
   ],
   "source": [
    "fig = plt.figure(figsize = (6, 6))\n",
    "ax = plt.subplot(111, aspect = aspect(ra, dec))\n",
    "\n",
    "ax.scatter(patch_0['ra'], patch_0['dec'], color = 'gold', alpha = 0.5)\n",
    "\n",
    "ax.set_ylabel(r'declination, $\\delta$', fontsize = 14)\n",
    "ax.set_xlabel(r'right ascension, $\\alpha$', fontsize = 14)\n",
    "\n",
    "fig.tight_layout()"
   ]
  },
  {
   "cell_type": "markdown",
   "metadata": {},
   "source": [
    "This more accurately represents the bunching that's happening.  Another problem emerges in that the sizes here don't necessarily reflect the size of the actual object.  That is to say, not all stars are the same size.  We can make some assumptions, namely that luminosity $L$ is proportional to surface area $A$.  This comes from\n",
    "\n",
    "\\begin{equation}\n",
    "L = \\sigma A T^4\n",
    "\\end{equation}\n",
    "\n",
    "where $\\sigma$ is the Boltzmann constant and $T$ is temperature.  More can be [found here](https://en.wikipedia.org/wiki/Luminosity#Luminosity_formulae).  Therefore, the more luminuous the object is the larger it should be.  Note that this assumes they all radiate at the same temperature, which is not true!  So, we can fit our approximation in as such:"
   ]
  },
  {
   "cell_type": "code",
   "execution_count": 39,
   "metadata": {},
   "outputs": [],
   "source": [
    "def get_object_size(sky, multiple = 1000):\n",
    "    \n",
    "    lums = np.array(sky['lum'])\n",
    "    normalized_lums = (lums - lums.min())/(lums.max() - lums.min())\n",
    "    \n",
    "    return normalized_lums * multiple"
   ]
  },
  {
   "cell_type": "markdown",
   "metadata": {},
   "source": [
    "Consider that this puts object size $s$ on the range $s \\in \\text{ multiple } * [0, 1]$ because we normalized it such that the lowest value is zero and the largest value is one.  The multiple allows us to control the size of objects.  Replotting:"
   ]
  },
  {
   "cell_type": "code",
   "execution_count": 40,
   "metadata": {},
   "outputs": [],
   "source": [
    "sizes = get_object_size(patch_0)"
   ]
  },
  {
   "cell_type": "code",
   "execution_count": 41,
   "metadata": {},
   "outputs": [
    {
     "data": {
      "image/png": "[encoded data removed]",
      "text/plain": [
       "<Figure size 432x432 with 1 Axes>"
      ]
     },
     "metadata": {
      "needs_background": "light"
     },
     "output_type": "display_data"
    }
   ],
   "source": [
    "fig = plt.figure(figsize = (6, 6))\n",
    "ax = plt.subplot(111, aspect = aspect(ra, dec))\n",
    "\n",
    "ax.scatter(patch_0['ra'], patch_0['dec'], color = 'gold', alpha = 0.5, s = sizes)\n",
    "\n",
    "ax.set_ylabel(r'declination, $\\delta$', fontsize = 14)\n",
    "ax.set_xlabel(r'right ascension, $\\alpha$', fontsize = 14)\n",
    "\n",
    "fig.tight_layout()"
   ]
  },
  {
   "cell_type": "markdown",
   "metadata": {},
   "source": [
    "This does reduce noise, but consider that so many objects are infinitely small due to the resizing.  We can also change alpha so that it reflects the magnitude of the object, but first we need to create a color map:"
   ]
  },
  {
   "cell_type": "code",
   "execution_count": 42,
   "metadata": {},
   "outputs": [],
   "source": [
    "def get_color_map(sky, cs = None):\n",
    "    \n",
    "    if cs == None:\n",
    "        colors = np.array([np.random.rand(4,) for _ in range(sky.shape[0])])\n",
    "    else:\n",
    "        colors = np.zeros((sky.shape[0], 4))\n",
    "        colors[:, 0:3] = cs\n",
    "    \n",
    "    absmag = abs(np.array(sky['absmag']))\n",
    "    normalized_absmag = (absmag - absmag.min())/(absmag.max() - absmag.min())\n",
    "    \n",
    "    colors[:, 3] = normalized_absmag\n",
    "    return colors"
   ]
  },
  {
   "cell_type": "code",
   "execution_count": 43,
   "metadata": {},
   "outputs": [
    {
     "data": {
      "image/png": "[encoded data removed]",
      "text/plain": [
       "<Figure size 432x432 with 1 Axes>"
      ]
     },
     "metadata": {
      "needs_background": "light"
     },
     "output_type": "display_data"
    }
   ],
   "source": [
    "fig = plt.figure(figsize = (6, 6))\n",
    "ax = plt.subplot(111, aspect = aspect(ra, dec))\n",
    "\n",
    "ax.scatter(patch_0['ra'], patch_0['dec'], c = get_color_map(patch_0, cs = [0.83, 0.61, 0.28]), s = sizes)\n",
    "\n",
    "ax.set_ylabel(r'declination, $\\delta$', fontsize = 14)\n",
    "ax.set_xlabel(r'right ascension, $\\alpha$', fontsize = 14)\n",
    "\n",
    "fig.tight_layout()"
   ]
  },
  {
   "cell_type": "code",
   "execution_count": 44,
   "metadata": {},
   "outputs": [
    {
     "data": {
      "image/png": "[encoded data removed]",
      "text/plain": [
       "<Figure size 432x432 with 1 Axes>"
      ]
     },
     "metadata": {
      "needs_background": "light"
     },
     "output_type": "display_data"
    }
   ],
   "source": [
    "fig = plt.figure(figsize = (6, 6))\n",
    "ax = plt.subplot(111)\n",
    "\n",
    "ax.scatter(patch_0['mag'], patch_0['lum']/patch_0['dist'], s = sizes)\n",
    "\n",
    "ax.set_yscale('log')"
   ]
  },
  {
   "cell_type": "code",
   "execution_count": 45,
   "metadata": {},
   "outputs": [
    {
     "data": {
      "text/plain": [
       "6743     3.197350e-06\n",
       "8791     1.502416e-05\n",
       "12473    3.571002e-06\n",
       "13213    1.078425e-06\n",
       "45916    6.804405e-07\n",
       "dtype: float64"
      ]
     },
     "execution_count": 45,
     "metadata": {},
     "output_type": "execute_result"
    }
   ],
   "source": [
    "filtered_patch0['lum']/(4*np.pi*filtered_patch0['dist']**2)"
   ]
  },
  {
   "cell_type": "code",
   "execution_count": 48,
   "metadata": {},
   "outputs": [
    {
     "data": {
      "text/plain": [
       "<matplotlib.collections.PathCollection at 0x7f9281df1850>"
      ]
     },
     "execution_count": 48,
     "metadata": {},
     "output_type": "execute_result"
    },
    {
     "data": {
      "image/png": "[encoded data removed]",
      "text/plain": [
       "<Figure size 432x288 with 1 Axes>"
      ]
     },
     "metadata": {
      "needs_background": "light"
     },
     "output_type": "display_data"
    }
   ],
   "source": [
    "plt.scatter(filtered_patch0['mag'], filtered_patch0['lum']/(4*np.pi*filtered_patch0['dist']**2))"
   ]
  },
  {
   "cell_type": "code",
   "execution_count": 47,
   "metadata": {},
   "outputs": [
    {
     "data": {
      "text/plain": [
       "Text(0.5, 0, 'magnitude')"
      ]
     },
     "execution_count": 47,
     "metadata": {},
     "output_type": "execute_result"
    },
    {
     "data": {
      "image/png": "[encoded data removed]",
      "text/plain": [
       "<Figure size 432x432 with 1 Axes>"
      ]
     },
     "metadata": {
      "needs_background": "light"
     },
     "output_type": "display_data"
    }
   ],
   "source": [
    "size_filter = sizes >= sizes.mean()\n",
    "filtered_patch0 = patch_0[size_filter]\n",
    "fig = plt.figure(figsize = (6, 6))\n",
    "ax = plt.subplot(111, aspect = aspect(ra, dec))\n",
    "\n",
    "ax.scatter(filtered_patch0['mag'], (filtered_patch0['lum']/filtered_patch0['dist']), s = sizes[size_filter])\n",
    "\n",
    "ax.set_yscale('log')\n",
    "ax.set_ylabel('lum/dist', fontsize = 14)\n",
    "ax.set_xlabel('magnitude', fontsize = 14)"
   ]
  },
  {
   "cell_type": "markdown",
   "metadata": {},
   "source": [
    "Define:\n",
    " * L = luminosity\n",
    " * d = distance\n",
    " * M = magntitude\n"
   ]
  },
  {
   "cell_type": "markdown",
   "metadata": {},
   "source": [
    " \n",
    " Therefore,\n",
    " \\begin{equation}\n",
    " \\log\\left(\\dfrac{L}{d}\\right) = Ms + b\n",
    " \\end{equation}\n",
    " \n",
    " We can use this with NumPy's polyfit."
   ]
  },
  {
   "cell_type": "code",
   "execution_count": 71,
   "metadata": {},
   "outputs": [],
   "source": [
    "s, b = np.polyfit(filtered_patch0['mag'], np.log((filtered_patch0['lum']/filtered_patch0['dist'])), 1)"
   ]
  },
  {
   "cell_type": "code",
   "execution_count": 72,
   "metadata": {},
   "outputs": [
    {
     "name": "stdout",
     "output_type": "stream",
     "text": [
      "-0.9210340371976181 11.374770359390586\n"
     ]
    }
   ],
   "source": [
    "print(s, b)"
   ]
  },
  {
   "cell_type": "markdown",
   "metadata": {},
   "source": [
    "Here, $s$ is the slope of the line and $b$ is the intercept.  We can then rearrange this to solve for $L$ such that\n",
    "\n",
    "\\begin{equation}\n",
    "e^{\\log(\\dfrac{L}{d})} = e^{Ms + b} = e^{Ms} e^{b} = Be^{Ms}\n",
    "\\end{equation}\n",
    "\n",
    "where $B = e^{b}$ such that\n",
    "\n",
    "\\begin{equation}\n",
    "\\dfrac{L}{d} = Be^{Ms}\n",
    "\\end{equation}"
   ]
  },
  {
   "cell_type": "markdown",
   "metadata": {},
   "source": [
    "Note that $d$ is in parsecs, $L$ is a multiple of solar luminosity by the form $L = n S$ so it can be converted to Watts.  We can do unit analysis such that\n",
    "\n",
    "\\begin{equation}\n",
    "\\dfrac{L}{d} = \\dfrac{E}{td} = \\dfrac{mad}{td} = \\dfrac{F}{t}\n",
    "\\end{equation}\n",
    "\n",
    "where $F$ is force."
   ]
  },
  {
   "cell_type": "code",
   "execution_count": 77,
   "metadata": {},
   "outputs": [],
   "source": [
    "exact = filtered_patch0['lum']/filtered_patch0['dist']"
   ]
  },
  {
   "cell_type": "code",
   "execution_count": 78,
   "metadata": {},
   "outputs": [],
   "source": [
    "approx = np.exp(b)*np.exp(s*filtered_patch0['mag'])"
   ]
  },
  {
   "cell_type": "code",
   "execution_count": 79,
   "metadata": {},
   "outputs": [
    {
     "data": {
      "text/plain": [
       "2.4077628779650695e-11"
      ]
     },
     "execution_count": 79,
     "metadata": {},
     "output_type": "execute_result"
    }
   ],
   "source": [
    "abs(np.array(exact) - np.array(approx)).sum()"
   ]
  },
  {
   "cell_type": "markdown",
   "metadata": {},
   "source": [
    "https://en.wikipedia.org/wiki/Luminosity_distance"
   ]
  },
  {
   "cell_type": "markdown",
   "metadata": {},
   "source": [
    "## TO-DO:"
   ]
  },
  {
   "cell_type": "code",
   "execution_count": 95,
   "metadata": {},
   "outputs": [],
   "source": [
    "def distance_limits(dist, z, df, cs):\n",
    "    dist_lim = dist > np.sqrt(df['x']**2 + df['y']**2)\n",
    "    z_lim = (z[1] > df['z']) & (z[0] < df['z'])\n",
    "    return df[dist_lim & z_lim], cs[dist_lim & z_lim]"
   ]
  },
  {
   "cell_type": "code",
   "execution_count": null,
   "metadata": {},
   "outputs": [],
   "source": [
    "def lum_limits(lum, df, cs):\n",
    "    lum_lim = lum > df['lum']"
   ]
  },
  {
   "cell_type": "code",
   "execution_count": 115,
   "metadata": {},
   "outputs": [],
   "source": [
    "def plot_range(dist, z, df, cs):\n",
    "    patch, ncs = distance_limits(dist, z, df, cs)\n",
    " \n",
    "    alphas = np.array(abs(patch['absmag'])/abs(patch['absmag']).sum())\n",
    "    alph = (alphas - alphas.min())/(alphas.max() - alphas.min())\n",
    "    \n",
    "    lums = np.array(patch['lum'])\n",
    "    lum = (lums - lums.min())/(lums.max() - lums.min())\n",
    "    lum *= 1000\n",
    "    \n",
    "    from mpl_toolkits.mplot3d import Axes3D\n",
    "    fig = plt.figure(figsize = (9,9))\n",
    "    ax = fig.add_subplot(111)\n",
    "\n",
    "    for i, (idx, p) in enumerate(patch.iterrows()):\n",
    "\n",
    "        if p['id'] == 0:\n",
    "            ax.scatter(p['x'], p['y'], alpha = 1, s = lum[i], marker = 's', c = 'k')\n",
    "        else: ax.scatter(p['x'], p['y'], alpha = 0.5, s = lum[i], color = ncs[i])"
   ]
  },
  {
   "cell_type": "code",
   "execution_count": 116,
   "metadata": {},
   "outputs": [],
   "source": [
    "cs = np.array([np.random.rand(3,) for _ in range(new_df.shape[0])])"
   ]
  },
  {
   "cell_type": "code",
   "execution_count": 126,
   "metadata": {},
   "outputs": [
    {
     "data": {
      "image/png": "[encoded data removed]",
      "text/plain": [
       "<Figure size 648x648 with 1 Axes>"
      ]
     },
     "metadata": {
      "needs_background": "light"
     },
     "output_type": "display_data"
    }
   ],
   "source": [
    "plot_range(10, (-5, 5), new_df, cs);"
   ]
  },
  {
   "cell_type": "code",
   "execution_count": 125,
   "metadata": {},
   "outputs": [
    {
     "data": {
      "image/png": "[encoded data removed]",
      "text/plain": [
       "<Figure size 648x648 with 1 Axes>"
      ]
     },
     "metadata": {
      "needs_background": "light"
     },
     "output_type": "display_data"
    }
   ],
   "source": [
    "plot_range(20, (-5, 5), new_df, cs);"
   ]
  },
  {
   "cell_type": "code",
   "execution_count": 127,
   "metadata": {},
   "outputs": [
    {
     "data": {
      "text/html": [
       "<div>\n",
       "<style scoped>\n",
       "    .dataframe tbody tr th:only-of-type {\n",
       "        vertical-align: middle;\n",
       "    }\n",
       "\n",
       "    .dataframe tbody tr th {\n",
       "        vertical-align: top;\n",
       "    }\n",
       "\n",
       "    .dataframe thead th {\n",
       "        text-align: right;\n",
       "    }\n",
       "</style>\n",
       "<table border=\"1\" class=\"dataframe\">\n",
       "  <thead>\n",
       "    <tr style=\"text-align: right;\">\n",
       "      <th></th>\n",
       "      <th>id</th>\n",
       "      <th>ra</th>\n",
       "      <th>dec</th>\n",
       "      <th>dist</th>\n",
       "      <th>pmra</th>\n",
       "      <th>pmdec</th>\n",
       "      <th>rv</th>\n",
       "      <th>mag</th>\n",
       "      <th>absmag</th>\n",
       "      <th>spect</th>\n",
       "      <th>...</th>\n",
       "      <th>bayer</th>\n",
       "      <th>flam</th>\n",
       "      <th>con</th>\n",
       "      <th>comp</th>\n",
       "      <th>comp_primary</th>\n",
       "      <th>base</th>\n",
       "      <th>lum</th>\n",
       "      <th>var</th>\n",
       "      <th>var_min</th>\n",
       "      <th>var_max</th>\n",
       "    </tr>\n",
       "  </thead>\n",
       "  <tbody>\n",
       "    <tr>\n",
       "      <th>0</th>\n",
       "      <td>0</td>\n",
       "      <td>0.000000</td>\n",
       "      <td>0.000000</td>\n",
       "      <td>0.0000</td>\n",
       "      <td>0.00</td>\n",
       "      <td>0.00</td>\n",
       "      <td>0.0</td>\n",
       "      <td>-26.70</td>\n",
       "      <td>4.850</td>\n",
       "      <td>G2V</td>\n",
       "      <td>...</td>\n",
       "      <td>NaN</td>\n",
       "      <td>NaN</td>\n",
       "      <td>NaN</td>\n",
       "      <td>1</td>\n",
       "      <td>0</td>\n",
       "      <td>NaN</td>\n",
       "      <td>1.000000e+00</td>\n",
       "      <td>NaN</td>\n",
       "      <td>NaN</td>\n",
       "      <td>NaN</td>\n",
       "    </tr>\n",
       "    <tr>\n",
       "      <th>70666</th>\n",
       "      <td>70666</td>\n",
       "      <td>14.495985</td>\n",
       "      <td>-62.679485</td>\n",
       "      <td>1.2959</td>\n",
       "      <td>-3775.64</td>\n",
       "      <td>768.16</td>\n",
       "      <td>-16.0</td>\n",
       "      <td>11.01</td>\n",
       "      <td>15.447</td>\n",
       "      <td>M5Ve</td>\n",
       "      <td>...</td>\n",
       "      <td>NaN</td>\n",
       "      <td>NaN</td>\n",
       "      <td>Cen</td>\n",
       "      <td>1</td>\n",
       "      <td>70666</td>\n",
       "      <td>NaN</td>\n",
       "      <td>5.770321e-05</td>\n",
       "      <td>V645</td>\n",
       "      <td>11.079</td>\n",
       "      <td>10.939</td>\n",
       "    </tr>\n",
       "    <tr>\n",
       "      <th>71453</th>\n",
       "      <td>71453</td>\n",
       "      <td>14.660346</td>\n",
       "      <td>-60.838300</td>\n",
       "      <td>1.3248</td>\n",
       "      <td>-3678.19</td>\n",
       "      <td>481.84</td>\n",
       "      <td>-26.2</td>\n",
       "      <td>1.35</td>\n",
       "      <td>5.739</td>\n",
       "      <td>K1V</td>\n",
       "      <td>...</td>\n",
       "      <td>Alp-2</td>\n",
       "      <td>NaN</td>\n",
       "      <td>Cen</td>\n",
       "      <td>2</td>\n",
       "      <td>71456</td>\n",
       "      <td>Gl 559</td>\n",
       "      <td>4.409608e-01</td>\n",
       "      <td>NaN</td>\n",
       "      <td>NaN</td>\n",
       "      <td>NaN</td>\n",
       "    </tr>\n",
       "    <tr>\n",
       "      <th>71456</th>\n",
       "      <td>71456</td>\n",
       "      <td>14.660765</td>\n",
       "      <td>-60.833976</td>\n",
       "      <td>1.3248</td>\n",
       "      <td>-3678.19</td>\n",
       "      <td>481.84</td>\n",
       "      <td>-26.2</td>\n",
       "      <td>-0.01</td>\n",
       "      <td>4.379</td>\n",
       "      <td>G2V</td>\n",
       "      <td>...</td>\n",
       "      <td>Alp-1</td>\n",
       "      <td>NaN</td>\n",
       "      <td>Cen</td>\n",
       "      <td>1</td>\n",
       "      <td>71456</td>\n",
       "      <td>Gl 559</td>\n",
       "      <td>1.543121e+00</td>\n",
       "      <td>NaN</td>\n",
       "      <td>0.113</td>\n",
       "      <td>-0.087</td>\n",
       "    </tr>\n",
       "    <tr>\n",
       "      <th>87665</th>\n",
       "      <td>87665</td>\n",
       "      <td>17.963472</td>\n",
       "      <td>4.693388</td>\n",
       "      <td>1.8238</td>\n",
       "      <td>-797.84</td>\n",
       "      <td>9999.99</td>\n",
       "      <td>-111.0</td>\n",
       "      <td>9.54</td>\n",
       "      <td>13.235</td>\n",
       "      <td>sdM4</td>\n",
       "      <td>...</td>\n",
       "      <td>NaN</td>\n",
       "      <td>NaN</td>\n",
       "      <td>Oph</td>\n",
       "      <td>1</td>\n",
       "      <td>87665</td>\n",
       "      <td>NaN</td>\n",
       "      <td>4.425884e-04</td>\n",
       "      <td>V2500</td>\n",
       "      <td>9.590</td>\n",
       "      <td>9.490</td>\n",
       "    </tr>\n",
       "    <tr>\n",
       "      <th>...</th>\n",
       "      <td>...</td>\n",
       "      <td>...</td>\n",
       "      <td>...</td>\n",
       "      <td>...</td>\n",
       "      <td>...</td>\n",
       "      <td>...</td>\n",
       "      <td>...</td>\n",
       "      <td>...</td>\n",
       "      <td>...</td>\n",
       "      <td>...</td>\n",
       "      <td>...</td>\n",
       "      <td>...</td>\n",
       "      <td>...</td>\n",
       "      <td>...</td>\n",
       "      <td>...</td>\n",
       "      <td>...</td>\n",
       "      <td>...</td>\n",
       "      <td>...</td>\n",
       "      <td>...</td>\n",
       "      <td>...</td>\n",
       "      <td>...</td>\n",
       "    </tr>\n",
       "    <tr>\n",
       "      <th>112790</th>\n",
       "      <td>112790</td>\n",
       "      <td>22.912914</td>\n",
       "      <td>-6.964064</td>\n",
       "      <td>100000.0000</td>\n",
       "      <td>2.34</td>\n",
       "      <td>-8.72</td>\n",
       "      <td>-42.0</td>\n",
       "      <td>10.75</td>\n",
       "      <td>-9.250</td>\n",
       "      <td>R...</td>\n",
       "      <td>...</td>\n",
       "      <td>NaN</td>\n",
       "      <td>NaN</td>\n",
       "      <td>Aqr</td>\n",
       "      <td>1</td>\n",
       "      <td>112790</td>\n",
       "      <td>NaN</td>\n",
       "      <td>4.365158e+05</td>\n",
       "      <td>NaN</td>\n",
       "      <td>10.814</td>\n",
       "      <td>10.674</td>\n",
       "    </tr>\n",
       "    <tr>\n",
       "      <th>99570</th>\n",
       "      <td>99570</td>\n",
       "      <td>20.266915</td>\n",
       "      <td>2.111512</td>\n",
       "      <td>100000.0000</td>\n",
       "      <td>0.31</td>\n",
       "      <td>-2.84</td>\n",
       "      <td>0.0</td>\n",
       "      <td>12.28</td>\n",
       "      <td>-7.720</td>\n",
       "      <td>M3</td>\n",
       "      <td>...</td>\n",
       "      <td>NaN</td>\n",
       "      <td>NaN</td>\n",
       "      <td>Aql</td>\n",
       "      <td>1</td>\n",
       "      <td>99570</td>\n",
       "      <td>NaN</td>\n",
       "      <td>1.066596e+05</td>\n",
       "      <td>V1480</td>\n",
       "      <td>12.636</td>\n",
       "      <td>11.996</td>\n",
       "    </tr>\n",
       "    <tr>\n",
       "      <th>112792</th>\n",
       "      <td>112792</td>\n",
       "      <td>22.913395</td>\n",
       "      <td>50.963615</td>\n",
       "      <td>100000.0000</td>\n",
       "      <td>-1.75</td>\n",
       "      <td>-5.29</td>\n",
       "      <td>0.0</td>\n",
       "      <td>8.71</td>\n",
       "      <td>-11.290</td>\n",
       "      <td>Ap</td>\n",
       "      <td>...</td>\n",
       "      <td>NaN</td>\n",
       "      <td>NaN</td>\n",
       "      <td>Lac</td>\n",
       "      <td>1</td>\n",
       "      <td>112792</td>\n",
       "      <td>NaN</td>\n",
       "      <td>2.857591e+06</td>\n",
       "      <td>NaN</td>\n",
       "      <td>NaN</td>\n",
       "      <td>NaN</td>\n",
       "    </tr>\n",
       "    <tr>\n",
       "      <th>32716</th>\n",
       "      <td>32716</td>\n",
       "      <td>6.838202</td>\n",
       "      <td>4.546569</td>\n",
       "      <td>100000.0000</td>\n",
       "      <td>-0.30</td>\n",
       "      <td>-2.02</td>\n",
       "      <td>0.0</td>\n",
       "      <td>9.06</td>\n",
       "      <td>-10.940</td>\n",
       "      <td>F0</td>\n",
       "      <td>...</td>\n",
       "      <td>NaN</td>\n",
       "      <td>NaN</td>\n",
       "      <td>Mon</td>\n",
       "      <td>1</td>\n",
       "      <td>32716</td>\n",
       "      <td>NaN</td>\n",
       "      <td>2.070141e+06</td>\n",
       "      <td>NaN</td>\n",
       "      <td>NaN</td>\n",
       "      <td>NaN</td>\n",
       "    </tr>\n",
       "    <tr>\n",
       "      <th>46432</th>\n",
       "      <td>46432</td>\n",
       "      <td>9.496411</td>\n",
       "      <td>54.129725</td>\n",
       "      <td>100000.0000</td>\n",
       "      <td>-7.40</td>\n",
       "      <td>-1.31</td>\n",
       "      <td>0.0</td>\n",
       "      <td>8.50</td>\n",
       "      <td>-11.500</td>\n",
       "      <td>K5</td>\n",
       "      <td>...</td>\n",
       "      <td>NaN</td>\n",
       "      <td>NaN</td>\n",
       "      <td>UMa</td>\n",
       "      <td>1</td>\n",
       "      <td>46432</td>\n",
       "      <td>NaN</td>\n",
       "      <td>3.467369e+06</td>\n",
       "      <td>NaN</td>\n",
       "      <td>NaN</td>\n",
       "      <td>NaN</td>\n",
       "    </tr>\n",
       "  </tbody>\n",
       "</table>\n",
       "<p>119614 rows × 31 columns</p>\n",
       "</div>"
      ],
      "text/plain": [
       "            id         ra        dec         dist     pmra    pmdec     rv  \\\n",
       "0            0   0.000000   0.000000       0.0000     0.00     0.00    0.0   \n",
       "70666    70666  14.495985 -62.679485       1.2959 -3775.64   768.16  -16.0   \n",
       "71453    71453  14.660346 -60.838300       1.3248 -3678.19   481.84  -26.2   \n",
       "71456    71456  14.660765 -60.833976       1.3248 -3678.19   481.84  -26.2   \n",
       "87665    87665  17.963472   4.693388       1.8238  -797.84  9999.99 -111.0   \n",
       "...        ...        ...        ...          ...      ...      ...    ...   \n",
       "112790  112790  22.912914  -6.964064  100000.0000     2.34    -8.72  -42.0   \n",
       "99570    99570  20.266915   2.111512  100000.0000     0.31    -2.84    0.0   \n",
       "112792  112792  22.913395  50.963615  100000.0000    -1.75    -5.29    0.0   \n",
       "32716    32716   6.838202   4.546569  100000.0000    -0.30    -2.02    0.0   \n",
       "46432    46432   9.496411  54.129725  100000.0000    -7.40    -1.31    0.0   \n",
       "\n",
       "          mag  absmag spect  ...  bayer  flam  con  comp  comp_primary  \\\n",
       "0      -26.70   4.850   G2V  ...    NaN   NaN  NaN     1             0   \n",
       "70666   11.01  15.447  M5Ve  ...    NaN   NaN  Cen     1         70666   \n",
       "71453    1.35   5.739   K1V  ...  Alp-2   NaN  Cen     2         71456   \n",
       "71456   -0.01   4.379   G2V  ...  Alp-1   NaN  Cen     1         71456   \n",
       "87665    9.54  13.235  sdM4  ...    NaN   NaN  Oph     1         87665   \n",
       "...       ...     ...   ...  ...    ...   ...  ...   ...           ...   \n",
       "112790  10.75  -9.250  R...  ...    NaN   NaN  Aqr     1        112790   \n",
       "99570   12.28  -7.720    M3  ...    NaN   NaN  Aql     1         99570   \n",
       "112792   8.71 -11.290    Ap  ...    NaN   NaN  Lac     1        112792   \n",
       "32716    9.06 -10.940    F0  ...    NaN   NaN  Mon     1         32716   \n",
       "46432    8.50 -11.500    K5  ...    NaN   NaN  UMa     1         46432   \n",
       "\n",
       "          base           lum    var  var_min  var_max  \n",
       "0          NaN  1.000000e+00    NaN      NaN      NaN  \n",
       "70666      NaN  5.770321e-05   V645   11.079   10.939  \n",
       "71453   Gl 559  4.409608e-01    NaN      NaN      NaN  \n",
       "71456   Gl 559  1.543121e+00    NaN    0.113   -0.087  \n",
       "87665      NaN  4.425884e-04  V2500    9.590    9.490  \n",
       "...        ...           ...    ...      ...      ...  \n",
       "112790     NaN  4.365158e+05    NaN   10.814   10.674  \n",
       "99570      NaN  1.066596e+05  V1480   12.636   11.996  \n",
       "112792     NaN  2.857591e+06    NaN      NaN      NaN  \n",
       "32716      NaN  2.070141e+06    NaN      NaN      NaN  \n",
       "46432      NaN  3.467369e+06    NaN      NaN      NaN  \n",
       "\n",
       "[119614 rows x 31 columns]"
      ]
     },
     "execution_count": 127,
     "metadata": {},
     "output_type": "execute_result"
    }
   ],
   "source": [
    "new_df.sort_values(by = ['dist'])"
   ]
  },
  {
   "cell_type": "code",
   "execution_count": 162,
   "metadata": {},
   "outputs": [
    {
     "data": {
      "image/png": "[encoded data removed]",
      "text/plain": [
       "<Figure size 432x288 with 1 Axes>"
      ]
     },
     "metadata": {
      "needs_background": "light"
     },
     "output_type": "display_data"
    }
   ],
   "source": [
    "plt.scatter(new_df['mag'], new_df['lum']/new_df['dist'])\n",
    "\n",
    "plt.yscale('log')"
   ]
  },
  {
   "cell_type": "code",
   "execution_count": 163,
   "metadata": {},
   "outputs": [
    {
     "data": {
      "image/png": "[encoded data removed]",
      "text/plain": [
       "<Figure size 432x288 with 1 Axes>"
      ]
     },
     "metadata": {
      "needs_background": "light"
     },
     "output_type": "display_data"
    }
   ],
   "source": [
    "plt.scatter(new_df['absmag'], new_df['lum']/new_df['dist'])\n",
    "\n",
    "plt.yscale('log')"
   ]
  },
  {
   "cell_type": "code",
   "execution_count": null,
   "metadata": {},
   "outputs": [],
   "source": []
  }
 ],
 "metadata": {
  "kernelspec": {
   "display_name": "Python 3",
   "language": "python",
   "name": "python3"
  },
  "language_info": {
   "codemirror_mode": {
    "name": "ipython",
    "version": 3
   },
   "file_extension": ".py",
   "mimetype": "text/x-python",
   "name": "python",
   "nbconvert_exporter": "python",
   "pygments_lexer": "ipython3",
   "version": "3.7.4"
  }
 },
 "nbformat": 4,
 "nbformat_minor": 4
}

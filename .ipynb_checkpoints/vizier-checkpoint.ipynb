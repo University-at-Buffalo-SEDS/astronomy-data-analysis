{
 "cells": [
  {
   "cell_type": "code",
   "execution_count": 66,
   "metadata": {},
   "outputs": [],
   "source": [
    "import numpy as np\n",
    "import pandas as pds\n",
    "from matplotlib import pyplot as plt"
   ]
  },
  {
   "cell_type": "code",
   "execution_count": 97,
   "metadata": {
    "scrolled": true
   },
   "outputs": [],
   "source": [
    "vizier_data = pds.read_csv('data/asu.tsv', sep = ';', error_bad_lines=False, skiprows = 3,\n",
    "                          names = ['Cl', 'N', 'ID', 'B-V', 'Vmag', 'LC', 'log.Teff', 'logL', 'Age', 'Mass',\n",
    "                           'Prob'])"
   ]
  },
  {
   "cell_type": "code",
   "execution_count": 98,
   "metadata": {},
   "outputs": [
    {
     "data": {
      "text/plain": [
       "Index(['Cl', 'N', 'ID', 'B-V', 'Vmag', 'LC', 'log.Teff', 'logL', 'Age', 'Mass',\n",
       "       'Prob'],\n",
       "      dtype='object')"
      ]
     },
     "execution_count": 98,
     "metadata": {},
     "output_type": "execute_result"
    }
   ],
   "source": [
    "vizier_data.keys()"
   ]
  },
  {
   "cell_type": "code",
   "execution_count": 99,
   "metadata": {},
   "outputs": [
    {
     "data": {
      "text/html": [
       "<div>\n",
       "<style scoped>\n",
       "    .dataframe tbody tr th:only-of-type {\n",
       "        vertical-align: middle;\n",
       "    }\n",
       "\n",
       "    .dataframe tbody tr th {\n",
       "        vertical-align: top;\n",
       "    }\n",
       "\n",
       "    .dataframe thead th {\n",
       "        text-align: right;\n",
       "    }\n",
       "</style>\n",
       "<table border=\"1\" class=\"dataframe\">\n",
       "  <thead>\n",
       "    <tr style=\"text-align: right;\">\n",
       "      <th></th>\n",
       "      <th>Cl</th>\n",
       "      <th>N</th>\n",
       "      <th>ID</th>\n",
       "      <th>B-V</th>\n",
       "      <th>Vmag</th>\n",
       "      <th>LC</th>\n",
       "      <th>log.Teff</th>\n",
       "      <th>logL</th>\n",
       "      <th>Age</th>\n",
       "      <th>Mass</th>\n",
       "      <th>Prob</th>\n",
       "    </tr>\n",
       "  </thead>\n",
       "  <tbody>\n",
       "    <tr>\n",
       "      <td>0</td>\n",
       "      <td>1</td>\n",
       "      <td>1</td>\n",
       "      <td>454</td>\n",
       "      <td>0.45</td>\n",
       "      <td>7.32</td>\n",
       "      <td>1</td>\n",
       "      <td>3.808</td>\n",
       "      <td>3.42</td>\n",
       "      <td>2.48e+07</td>\n",
       "      <td>7.67</td>\n",
       "      <td>1</td>\n",
       "    </tr>\n",
       "    <tr>\n",
       "      <td>1</td>\n",
       "      <td>1</td>\n",
       "      <td>1</td>\n",
       "      <td>454</td>\n",
       "      <td>0.45</td>\n",
       "      <td>7.32</td>\n",
       "      <td>1</td>\n",
       "      <td>3.808</td>\n",
       "      <td>3.42</td>\n",
       "      <td>3.82e+07</td>\n",
       "      <td>6.75</td>\n",
       "      <td>54</td>\n",
       "    </tr>\n",
       "    <tr>\n",
       "      <td>2</td>\n",
       "      <td>1</td>\n",
       "      <td>1</td>\n",
       "      <td>454</td>\n",
       "      <td>0.45</td>\n",
       "      <td>7.32</td>\n",
       "      <td>1</td>\n",
       "      <td>3.808</td>\n",
       "      <td>3.42</td>\n",
       "      <td>4.59e+07</td>\n",
       "      <td>6.47</td>\n",
       "      <td>45</td>\n",
       "    </tr>\n",
       "    <tr>\n",
       "      <td>3</td>\n",
       "      <td>1</td>\n",
       "      <td>2</td>\n",
       "      <td>0</td>\n",
       "      <td>0.71</td>\n",
       "      <td>7.38</td>\n",
       "      <td>1</td>\n",
       "      <td>3.767</td>\n",
       "      <td>3.39</td>\n",
       "      <td>2.47e+07</td>\n",
       "      <td>7.69</td>\n",
       "      <td>1</td>\n",
       "    </tr>\n",
       "    <tr>\n",
       "      <td>4</td>\n",
       "      <td>1</td>\n",
       "      <td>2</td>\n",
       "      <td>0</td>\n",
       "      <td>0.71</td>\n",
       "      <td>7.38</td>\n",
       "      <td>1</td>\n",
       "      <td>3.767</td>\n",
       "      <td>3.39</td>\n",
       "      <td>3.76e+07</td>\n",
       "      <td>6.77</td>\n",
       "      <td>70</td>\n",
       "    </tr>\n",
       "  </tbody>\n",
       "</table>\n",
       "</div>"
      ],
      "text/plain": [
       "   Cl  N   ID   B-V  Vmag  LC  log.Teff  logL        Age    Mass  Prob\n",
       "0   1  1  454  0.45  7.32   1     3.808  3.42   2.48e+07    7.67     1\n",
       "1   1  1  454  0.45  7.32   1     3.808  3.42   3.82e+07    6.75    54\n",
       "2   1  1  454  0.45  7.32   1     3.808  3.42   4.59e+07    6.47    45\n",
       "3   1  2    0  0.71  7.38   1     3.767  3.39   2.47e+07    7.69     1\n",
       "4   1  2    0  0.71  7.38   1     3.767  3.39   3.76e+07    6.77    70"
      ]
     },
     "execution_count": 99,
     "metadata": {},
     "output_type": "execute_result"
    }
   ],
   "source": [
    "vizier_data.head()"
   ]
  },
  {
   "cell_type": "code",
   "execution_count": 100,
   "metadata": {},
   "outputs": [],
   "source": [
    "vizier_data.replace('      ', np.nan, inplace=True)"
   ]
  },
  {
   "cell_type": "code",
   "execution_count": 101,
   "metadata": {},
   "outputs": [],
   "source": [
    "vizier_data = vizier_data.dropna()"
   ]
  },
  {
   "cell_type": "code",
   "execution_count": 102,
   "metadata": {},
   "outputs": [],
   "source": [
    "vizier_data = vizier_data.apply(pds.to_numeric, errors='coerce')"
   ]
  },
  {
   "cell_type": "code",
   "execution_count": 103,
   "metadata": {},
   "outputs": [
    {
     "data": {
      "text/plain": [
       "<matplotlib.collections.PathCollection at 0x7f0f0ab6df50>"
      ]
     },
     "execution_count": 103,
     "metadata": {},
     "output_type": "execute_result"
    },
    {
     "data": {
      "image/png": "[encoded data removed]",
      "text/plain": [
       "<Figure size 432x288 with 1 Axes>"
      ]
     },
     "metadata": {
      "needs_background": "light"
     },
     "output_type": "display_data"
    }
   ],
   "source": [
    "plt.scatter(vizier_data['Mass'], np.power(10, vizier_data['log.Teff']))"
   ]
  },
  {
   "cell_type": "code",
   "execution_count": null,
   "metadata": {},
   "outputs": [],
   "source": []
  },
  {
   "cell_type": "code",
   "execution_count": null,
   "metadata": {},
   "outputs": [],
   "source": []
  }
 ],
 "metadata": {
  "kernelspec": {
   "display_name": "Python 3",
   "language": "python",
   "name": "python3"
  },
  "language_info": {
   "codemirror_mode": {
    "name": "ipython",
    "version": 3
   },
   "file_extension": ".py",
   "mimetype": "text/x-python",
   "name": "python",
   "nbconvert_exporter": "python",
   "pygments_lexer": "ipython3",
   "version": "3.7.4"
  }
 },
 "nbformat": 4,
 "nbformat_minor": 2
}
